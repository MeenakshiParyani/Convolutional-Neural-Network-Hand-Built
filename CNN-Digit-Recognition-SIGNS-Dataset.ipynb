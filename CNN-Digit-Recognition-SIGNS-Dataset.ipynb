{
 "cells": [
  {
   "cell_type": "code",
   "execution_count": 1,
   "metadata": {
    "collapsed": true
   },
   "outputs": [],
   "source": [
    "# Imports\n",
    "import numpy as np\n",
    "import math\n",
    "import matplotlib.pyplot as plt\n",
    "\n",
    "np.random.seed(1)"
   ]
  },
  {
   "cell_type": "markdown",
   "metadata": {},
   "source": [
    "### Q.1 (70pts) Define functions"
   ]
  },
  {
   "cell_type": "code",
   "execution_count": 2,
   "metadata": {
    "collapsed": true
   },
   "outputs": [],
   "source": [
    "# One hot encode the labels\n",
    "def one_hot_encode(y):\n",
    "    targets = np.array(np.unique(y)).reshape(-1)\n",
    "    enc = np.eye(len(targets))[y]\n",
    "    print(enc)\n",
    "    return enc\n",
    "\n",
    "# Get the loss of for the training example\n",
    "def cross_entropy(Y, Yhat):\n",
    "    m= Y.shape[1]\n",
    "    loss = np.multiply(np.log(Yhat),Y) + np.multiply((1.-Y), np.log(1. - Yhat))\n",
    "    loss = np.sum(loss)\n",
    "    cost = -1./m * np.sum(loss)\n",
    "    cost = np.squeeze(cost)\n",
    "    return cost\n",
    "\n",
    "# Applying Sigmoid Activation function to the hidden layer outputs used while forward propagation\n",
    "# Purpose of this method is to do squishing on the linear function\n",
    "def sigmoid(z):\n",
    "    return 1./(1+np.exp(-z))\n",
    "\n",
    "# Applying Sigmoid Activation function to the hidden layer outputs used while backward propagation to get gradients\n",
    "# Purpose of this method is to do undo the squishing on the linear function\n",
    "def sigmoid_prime(z):\n",
    "    inv = (np.exp(-z))/(np.power((1+np.exp(-z)),2))\n",
    "    return inv\n",
    "\n",
    "def relu(z):\n",
    "    return np.maximum(z,0)\n",
    "    \n",
    "def relu_prime(z):\n",
    "    return np.where(z < 0, 0.0, 1.0)\n",
    "\n",
    "# Softmax activation function to get the probablity of the classes\n",
    "def softmax(z):\n",
    "    softMax = (np.exp(z) / np.sum(np.exp(z),axis=0))\n",
    "    softMax = np.matrix(np.argmax(softMax,axis=0)).T\n",
    "    return softMax\n",
    "\n",
    "def zero_pad(X, pad, pad_value):\n",
    "    ## Pads the height and width and breadth only by 'pad' columns using constant value, 4 dimensional padding\n",
    "    padded_array = np.pad(X, ((0, 0), (pad, pad), (pad, pad), (0,0)), 'constant', constant_values = (pad_value,pad_value))\n",
    "    print(\"Dimension after padding\" + str(padded_array.shape))\n",
    "    return padded_array\n",
    "\n",
    "# Convolution of a slice\n",
    "def convolute_slice(a_slice, W, b):\n",
    "    conv = np.multiply(a_slice, W)\n",
    "    z = np.sum(conv) + float(b)\n",
    "    return z\n",
    "\n",
    "def convolute_forward(A_prev, W, b, hyper_params):\n",
    "    # Get the required parameters\n",
    "    m, nH_prev, nW_prev, nC_prev = A_prev.shape\n",
    "    f, f, nC_prev, n_C  = W.shape\n",
    "    pad = hyper_params[\"pad\"]\n",
    "    stride = hyper_params[\"stride\"]\n",
    "    \n",
    "    # Calculate the dimensions of input\n",
    "    nH = math.floor((nH_prev -f + 2 * pad)/stride) + 1\n",
    "    nW = math.floor((nW_prev -f + 2 * pad)/stride) + 1\n",
    "    \n",
    "    # Calculate the dimensions of output\n",
    "    Z = np.zeros(m, nH, nW, nC)\n",
    "    A_prev_pad = zero_pad(A_prev, pad)\n",
    "    \n",
    "    # referring professor's code for forward propagation\n",
    "    for i in range(m):\n",
    "        a_pad_prev = A_prev_pad[i, :, :, :]\n",
    "        for h in range(nH):\n",
    "            for w in range(nW):\n",
    "                for c in range(nC):\n",
    "                    # Find the coordinates of the current slice\n",
    "                    vert_start = h * stride\n",
    "                    vert_end = vert_start + f\n",
    "                    horiz_start = w * stride\n",
    "                    horiz_end = horiz_start + f\n",
    "                    \n",
    "                    # Extract the slice from input\n",
    "                    a_slice_prev = a_pad_prev[vert_start:vert_end, horiz_start:hotiz_end, :]\n",
    "\n",
    "                    # Convolve the (3D) slice with the correct filter W and bias b, to get back one output neuron\n",
    "                    Z[i, h, w, c] = convolute_slice(a_slice_prev, W[:, :, :, c], b[:, :, :, c])\n",
    "                    \n",
    "    cache = (A_prev, W, b, hyper_params)\n",
    "    return Z, cache\n",
    "\n",
    "def pool_forward(A_prev, stride, pad, pooling_method):\n",
    "    # Get the required parameters\n",
    "    (m, nH_prev, nW_prev, nC_prev) = A_prev.shape\n",
    "    (f, f, nC_prev, n_C) = W.shape\n",
    "    f = hyper_params[\"f\"]\n",
    "    stride = hyper_params[\"stride\"]\n",
    "    \n",
    "    # Calculate the dimensions of the output\n",
    "    nH = int(1 + (nH_prev - f) / stride)\n",
    "    nW = int(1 + (nW_prev - f) / stride)\n",
    "    nC = nC_prev\n",
    "    \n",
    "    # Initialize the output matrix\n",
    "    A = np.zeros((m, nH, nW, nC))\n",
    "    \n",
    "     for i in range(m):\n",
    "        for h in range(nH):\n",
    "            for w in range(nW):\n",
    "                for c in range(nC):\n",
    "                    \n",
    "                    # Find the coordinates of the current slice\n",
    "                    vert_start = h * stride\n",
    "                    vert_end = vert_start + f\n",
    "                    horiz_start = w * stride\n",
    "                    horiz_end = horiz_start + f\n",
    "                    \n",
    "                     # Extract the slice from input\n",
    "                    a_slice_prev = a_pad_prev[i, vert_start:vert_end, horiz_start:hotiz_end, c]\n",
    "                    \n",
    "                    # Perform the pooling on the slice\n",
    "                    if(pooling_method == \"max\"):\n",
    "                        A[i, h, w, c] = np.max(a_slice_prev)\n",
    "                    elif(pooling_method == \"avg\"):\n",
    "                        A[i, h, w, c] = np.mean(a_slice_prev)\n",
    "    cache = (A_prev, hyper_params)                \n",
    "    assert(A.shape == (m, nH, nW, nC))\n",
    "             \n",
    "             \n",
    "def convolute_backward(dZ, cache):\n",
    "    (A_prev, W, b, hyper_params) = cache\n",
    "    # Get the input dimensions\n",
    "    (m, nH_prev, nW_prev, nC_prev) = A_prev.shape\n",
    "    \n",
    "    (f, f, n_C_prev, n_C) = W.shape\n",
    "    stride = hyper_params[\"stride\"]\n",
    "    pad = hyper_params[\"pad\"]\n",
    "    (m, nH, nW, nC) = dZ.shape\n",
    "    dA_prev = np.zeros((m, nH_prev, nW_prev, nC_prev))                           \n",
    "    dW = np.zeros((f, f, nC_prev, nC))\n",
    "    db = np.zeros((1, 1, 1, n_C))\n",
    "    A_pad_prev = zero_pad(A_prev, pad)\n",
    "    dA_pad_prev = zero_pad(dA_prev, pad)\n",
    "    \n",
    "    for h in range(nH):\n",
    "        for w in range(nW):\n",
    "            for c in range(nC):\n",
    "                    \n",
    "                # Find the coordinates of the current slice\n",
    "                vert_start = h * stride\n",
    "                vert_end = vert_start + f\n",
    "                horiz_start = w * stride\n",
    "                horiz_end = horiz_start + f\n",
    "                \n",
    "                # Extract the slice from input\n",
    "                a_slice = a_pad_prev[i, vert_start:vert_end, horiz_start:hotiz_end, c]\n",
    "                \n",
    "                da_pad_prev[vert_start:vert_end, horiz_start:horiz_end, :] += W[:,:,:,c] * dZ[i, h, w, c]\n",
    "                dW[:,:,:,c] += a_slice * dZ[i, h, w, c]\n",
    "                db[:,:,:,c] += dZ[i, h, w, c]\n",
    "    \n",
    "    dA_prev[i, :, :, :] = da_prev_pad[pad:-pad, pad:-pad, :]\n",
    "    assert(dA_prev.shape == (m, n_H_prev, n_W_prev, n_C_prev))\n",
    "    return dA_prev, dW, db"
   ]
  },
  {
   "cell_type": "markdown",
   "metadata": {},
   "source": [
    "### Q.2 Load data"
   ]
  },
  {
   "cell_type": "code",
   "execution_count": 4,
   "metadata": {},
   "outputs": [
    {
     "data": {
      "image/png": "[encoded data removed]",
      "text/plain": [
       "<matplotlib.figure.Figure at 0x11224d550>"
      ]
     },
     "metadata": {},
     "output_type": "display_data"
    },
    {
     "name": "stdout",
     "output_type": "stream",
     "text": [
      "Digit in the image is 4\n",
      "(1020, 64, 64, 3)\n",
      "[[ 0.  0.  0.  0.  1.  0.]\n",
      " [ 0.  0.  0.  0.  1.  0.]\n",
      " [ 0.  0.  0.  0.  1.  0.]\n",
      " ..., \n",
      " [ 0.  0.  0.  0.  1.  0.]\n",
      " [ 0.  0.  0.  1.  0.  0.]\n",
      " [ 0.  0.  1.  0.  0.  0.]]\n"
     ]
    },
    {
     "ename": "TypeError",
     "evalue": "cannot concatenate 'str' and 'tuple' objects",
     "output_type": "error",
     "traceback": [
      "\u001b[0;31m---------------------------------------------------------------------------\u001b[0m",
      "\u001b[0;31mTypeError\u001b[0m                                 Traceback (most recent call last)",
      "\u001b[0;32m<ipython-input-4-86443a0944d7>\u001b[0m in \u001b[0;36m<module>\u001b[0;34m()\u001b[0m\n\u001b[1;32m      9\u001b[0m \u001b[0;31m# Testing\u001b[0m\u001b[0;34m\u001b[0m\u001b[0;34m\u001b[0m\u001b[0m\n\u001b[1;32m     10\u001b[0m \u001b[0my_train_encoded\u001b[0m \u001b[0;34m=\u001b[0m \u001b[0mone_hot_encode\u001b[0m\u001b[0;34m(\u001b[0m\u001b[0my_train\u001b[0m\u001b[0;34m)\u001b[0m\u001b[0;34m\u001b[0m\u001b[0m\n\u001b[0;32m---> 11\u001b[0;31m \u001b[0mX_train_padded\u001b[0m \u001b[0;34m=\u001b[0m \u001b[0mpad\u001b[0m\u001b[0;34m(\u001b[0m\u001b[0mX_train\u001b[0m\u001b[0;34m,\u001b[0m \u001b[0;36m2\u001b[0m\u001b[0;34m,\u001b[0m \u001b[0;36m0\u001b[0m\u001b[0;34m)\u001b[0m\u001b[0;34m\u001b[0m\u001b[0m\n\u001b[0m",
      "\u001b[0;32m<ipython-input-2-f8eb79466bfd>\u001b[0m in \u001b[0;36mpad\u001b[0;34m(X, pad, pad_value)\u001b[0m\n\u001b[1;32m     41\u001b[0m     \u001b[0;31m## Pads the height and width and breadth only by 'pad' columns using constant value, 4 dimensional padding\u001b[0m\u001b[0;34m\u001b[0m\u001b[0;34m\u001b[0m\u001b[0m\n\u001b[1;32m     42\u001b[0m     \u001b[0mpadded_array\u001b[0m \u001b[0;34m=\u001b[0m \u001b[0mnp\u001b[0m\u001b[0;34m.\u001b[0m\u001b[0mpad\u001b[0m\u001b[0;34m(\u001b[0m\u001b[0mX\u001b[0m\u001b[0;34m,\u001b[0m \u001b[0;34m(\u001b[0m\u001b[0;34m(\u001b[0m\u001b[0;36m0\u001b[0m\u001b[0;34m,\u001b[0m \u001b[0;36m0\u001b[0m\u001b[0;34m)\u001b[0m\u001b[0;34m,\u001b[0m \u001b[0;34m(\u001b[0m\u001b[0mpad\u001b[0m\u001b[0;34m,\u001b[0m \u001b[0mpad\u001b[0m\u001b[0;34m)\u001b[0m\u001b[0;34m,\u001b[0m \u001b[0;34m(\u001b[0m\u001b[0mpad\u001b[0m\u001b[0;34m,\u001b[0m \u001b[0mpad\u001b[0m\u001b[0;34m)\u001b[0m\u001b[0;34m,\u001b[0m \u001b[0;34m(\u001b[0m\u001b[0;36m0\u001b[0m\u001b[0;34m,\u001b[0m\u001b[0;36m0\u001b[0m\u001b[0;34m)\u001b[0m\u001b[0;34m)\u001b[0m\u001b[0;34m,\u001b[0m \u001b[0;34m'constant'\u001b[0m\u001b[0;34m,\u001b[0m \u001b[0mconstant_values\u001b[0m \u001b[0;34m=\u001b[0m \u001b[0;34m(\u001b[0m\u001b[0mpad_value\u001b[0m\u001b[0;34m,\u001b[0m\u001b[0mpad_value\u001b[0m\u001b[0;34m)\u001b[0m\u001b[0;34m)\u001b[0m\u001b[0;34m\u001b[0m\u001b[0m\n\u001b[0;32m---> 43\u001b[0;31m     \u001b[0;32mprint\u001b[0m\u001b[0;34m(\u001b[0m\u001b[0;34m\"Dimension after padding\"\u001b[0m \u001b[0;34m+\u001b[0m \u001b[0mpadded_array\u001b[0m\u001b[0;34m.\u001b[0m\u001b[0mshape\u001b[0m\u001b[0;34m)\u001b[0m\u001b[0;34m\u001b[0m\u001b[0m\n\u001b[0m\u001b[1;32m     44\u001b[0m     \u001b[0;32mreturn\u001b[0m \u001b[0mpadded_array\u001b[0m\u001b[0;34m\u001b[0m\u001b[0m\n\u001b[1;32m     45\u001b[0m \u001b[0;34m\u001b[0m\u001b[0m\n",
      "\u001b[0;31mTypeError\u001b[0m: cannot concatenate 'str' and 'tuple' objects"
     ]
    }
   ],
   "source": [
    "X_train = np.load('ex5_train_x.npy')\n",
    "y_train = np.load('ex5_train_y.npy')\n",
    "indx = 2\n",
    "plt.imshow(X_train[indx])\n",
    "plt.show()\n",
    "print(\"Digit in the image is \" + str(y_train[indx]))\n",
    "print(X_train.shape)\n",
    "\n",
    "# Testing\n",
    "y_train_encoded = one_hot_encode(y_train)\n",
    "X_train_padded = pad(X_train, 2, 0)"
   ]
  },
  {
   "cell_type": "markdown",
   "metadata": {},
   "source": [
    "### Q.3 (10pts) Initialize parameters (Weights, bias for each layer)"
   ]
  },
  {
   "cell_type": "code",
   "execution_count": null,
   "metadata": {
    "collapsed": true
   },
   "outputs": [],
   "source": []
  }
 ],
 "metadata": {
  "kernelspec": {
   "display_name": "Python 2",
   "language": "python",
   "name": "python2"
  },
  "language_info": {
   "codemirror_mode": {
    "name": "ipython",
    "version": 2
   },
   "file_extension": ".py",
   "mimetype": "text/x-python",
   "name": "python",
   "nbconvert_exporter": "python",
   "pygments_lexer": "ipython2",
   "version": "2.7.14"
  }
 },
 "nbformat": 4,
 "nbformat_minor": 2
}
